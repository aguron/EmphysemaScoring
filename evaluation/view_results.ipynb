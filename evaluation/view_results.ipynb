{
 "cells": [
  {
   "cell_type": "code",
   "execution_count": null,
   "metadata": {},
   "outputs": [],
   "source": [
    "import numpy as np\n",
    "import os\n",
    "\n",
    "experiment = 1\n",
    "cvf        = 1\n",
    "num_epochs = 5\n",
    "inpt       = 'orig'\n",
    "fname = os.path.join('Experiment' + str(experiment),\n",
    "                     str(cvf),\n",
    "                     'unet_' + str(num_epochs),\n",
    "                     inpt,\n",
    "                     'dice_coefficient.npy')\n",
    "\n",
    "score = np.load(fname)\n",
    "print(\"Dice coefficient is %f\" % score)"
   ]
  },
  {
   "cell_type": "code",
   "execution_count": null,
   "metadata": {},
   "outputs": [],
   "source": []
  }
 ],
 "metadata": {
  "kernelspec": {
   "display_name": "Python 3",
   "language": "python",
   "name": "python3"
  },
  "language_info": {
   "codemirror_mode": {
    "name": "ipython",
    "version": 3
   },
   "file_extension": ".py",
   "mimetype": "text/x-python",
   "name": "python",
   "nbconvert_exporter": "python",
   "pygments_lexer": "ipython3",
   "version": "3.5.2"
  }
 },
 "nbformat": 4,
 "nbformat_minor": 2
}
